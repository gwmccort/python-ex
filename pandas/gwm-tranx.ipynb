{
 "cells": [
  {
   "cell_type": "code",
   "execution_count": 3,
   "id": "57b50dc7",
   "metadata": {},
   "outputs": [],
   "source": [
    "import pandas as pd"
   ]
  },
  {
   "cell_type": "markdown",
   "id": "06491967",
   "metadata": {},
   "source": [
    "Read cvs and print start of file"
   ]
  },
  {
   "cell_type": "code",
   "execution_count": 4,
   "id": "10bbd09b",
   "metadata": {},
   "outputs": [
    {
     "data": {
      "text/html": [
       "<div>\n",
       "<style scoped>\n",
       "    .dataframe tbody tr th:only-of-type {\n",
       "        vertical-align: middle;\n",
       "    }\n",
       "\n",
       "    .dataframe tbody tr th {\n",
       "        vertical-align: top;\n",
       "    }\n",
       "\n",
       "    .dataframe thead th {\n",
       "        text-align: right;\n",
       "    }\n",
       "</style>\n",
       "<table border=\"1\" class=\"dataframe\">\n",
       "  <thead>\n",
       "    <tr style=\"text-align: right;\">\n",
       "      <th></th>\n",
       "      <th>Transaction Date</th>\n",
       "      <th>Posting Date</th>\n",
       "      <th>Reference Number</th>\n",
       "      <th>Amount</th>\n",
       "      <th>Description</th>\n",
       "    </tr>\n",
       "  </thead>\n",
       "  <tbody>\n",
       "    <tr>\n",
       "      <th>0</th>\n",
       "      <td>10/14/2021</td>\n",
       "      <td>10/14/2021</td>\n",
       "      <td>554295090RS30A22L</td>\n",
       "      <td>-7.49</td>\n",
       "      <td>PAYPAL *KATHERINEMI FB   4029357733   CA</td>\n",
       "    </tr>\n",
       "    <tr>\n",
       "      <th>1</th>\n",
       "      <td>10/16/2021</td>\n",
       "      <td>10/16/2021</td>\n",
       "      <td>5543286915SDGV445</td>\n",
       "      <td>-21.73</td>\n",
       "      <td>SQ *HAWAIIAN AROMA CAF   HONOLULU     HI</td>\n",
       "    </tr>\n",
       "    <tr>\n",
       "      <th>2</th>\n",
       "      <td>10/14/2021</td>\n",
       "      <td>10/14/2021</td>\n",
       "      <td>054368490EHT6Y05T</td>\n",
       "      <td>-91.76</td>\n",
       "      <td>AINA HAINA FOODLAND FA   HONOLULU     HI</td>\n",
       "    </tr>\n",
       "    <tr>\n",
       "      <th>3</th>\n",
       "      <td>10/15/2021</td>\n",
       "      <td>10/15/2021</td>\n",
       "      <td>751911692S66QDFNA</td>\n",
       "      <td>-47.25</td>\n",
       "      <td>MD FASHION SHOP          HAWAII       HI</td>\n",
       "    </tr>\n",
       "    <tr>\n",
       "      <th>4</th>\n",
       "      <td>10/16/2021</td>\n",
       "      <td>10/16/2021</td>\n",
       "      <td>555062992BLNMT4L7</td>\n",
       "      <td>-70.00</td>\n",
       "      <td>DKTL GIFT SHOP           HONOLULU     HI</td>\n",
       "    </tr>\n",
       "  </tbody>\n",
       "</table>\n",
       "</div>"
      ],
      "text/plain": [
       "  Transaction Date Posting Date   Reference Number  Amount  \\\n",
       "0       10/14/2021   10/14/2021  554295090RS30A22L   -7.49   \n",
       "1       10/16/2021   10/16/2021  5543286915SDGV445  -21.73   \n",
       "2       10/14/2021   10/14/2021  054368490EHT6Y05T  -91.76   \n",
       "3       10/15/2021   10/15/2021  751911692S66QDFNA  -47.25   \n",
       "4       10/16/2021   10/16/2021  555062992BLNMT4L7  -70.00   \n",
       "\n",
       "                                Description  \n",
       "0  PAYPAL *KATHERINEMI FB   4029357733   CA  \n",
       "1  SQ *HAWAIIAN AROMA CAF   HONOLULU     HI  \n",
       "2  AINA HAINA FOODLAND FA   HONOLULU     HI  \n",
       "3  MD FASHION SHOP          HAWAII       HI  \n",
       "4  DKTL GIFT SHOP           HONOLULU     HI  "
      ]
     },
     "execution_count": 4,
     "metadata": {},
     "output_type": "execute_result"
    }
   ],
   "source": [
    "oo = pd.read_csv('Data/Sams-Transaction.csv')\n",
    "oo.head()"
   ]
  },
  {
   "cell_type": "markdown",
   "id": "80b0a666",
   "metadata": {},
   "source": [
    "info about the data frame"
   ]
  },
  {
   "cell_type": "code",
   "execution_count": 5,
   "id": "8c7a020b",
   "metadata": {},
   "outputs": [
    {
     "name": "stdout",
     "output_type": "stream",
     "text": [
      "<class 'pandas.core.frame.DataFrame'>\n",
      "RangeIndex: 86 entries, 0 to 85\n",
      "Data columns (total 5 columns):\n",
      " #   Column            Non-Null Count  Dtype  \n",
      "---  ------            --------------  -----  \n",
      " 0   Transaction Date  86 non-null     object \n",
      " 1   Posting Date      86 non-null     object \n",
      " 2   Reference Number  86 non-null     object \n",
      " 3   Amount            86 non-null     float64\n",
      " 4   Description       86 non-null     object \n",
      "dtypes: float64(1), object(4)\n",
      "memory usage: 3.5+ KB\n"
     ]
    }
   ],
   "source": [
    "oo.info()"
   ]
  },
  {
   "cell_type": "markdown",
   "id": "4c1806a2",
   "metadata": {},
   "source": [
    "count of unique values"
   ]
  },
  {
   "cell_type": "code",
   "execution_count": 9,
   "id": "234a4fc4",
   "metadata": {},
   "outputs": [
    {
     "data": {
      "text/plain": [
       "HY-VEE CEDAR RAPIDS 10   CEDAR RAPIDS IA    13\n",
       "CASEYS GEN STORE 2772    CEDAR RAPIDS IA     5\n",
       "SAM'S CLUB 008162        CEDAR RAPIDS IA     3\n",
       "GOODWILL INDUSTRIES OF   CEDAR RAPIDS IA     2\n",
       "MASABI-LLC-RTD-DENVER    303-299-6000 CO     2\n",
       "Name: Description, dtype: int64"
      ]
     },
     "execution_count": 9,
     "metadata": {},
     "output_type": "execute_result"
    }
   ],
   "source": [
    "oo.Description.value_counts()"
   ]
  },
  {
   "cell_type": "markdown",
   "id": "4218a9cc",
   "metadata": {},
   "source": [
    "get top 5 locations where purchaces were made"
   ]
  },
  {
   "cell_type": "code",
   "execution_count": 10,
   "id": "1a278bec",
   "metadata": {},
   "outputs": [
    {
     "data": {
      "text/plain": [
       "HY-VEE CEDAR RAPIDS 10   CEDAR RAPIDS IA    13\n",
       "CASEYS GEN STORE 2772    CEDAR RAPIDS IA     5\n",
       "SAM'S CLUB 008162        CEDAR RAPIDS IA     3\n",
       "GOODWILL INDUSTRIES OF   CEDAR RAPIDS IA     2\n",
       "MASABI-LLC-RTD-DENVER    303-299-6000 CO     2\n",
       "Name: Description, dtype: int64"
      ]
     },
     "execution_count": 10,
     "metadata": {},
     "output_type": "execute_result"
    }
   ],
   "source": [
    "oo.Description.value_counts().head(5)"
   ]
  },
  {
   "cell_type": "markdown",
   "id": "fb0c9594",
   "metadata": {},
   "source": [
    "list the description column"
   ]
  },
  {
   "cell_type": "code",
   "execution_count": 7,
   "id": "d19fa13b",
   "metadata": {},
   "outputs": [
    {
     "data": {
      "text/plain": [
       "0     PAYPAL *KATHERINEMI FB   4029357733   CA\n",
       "1     SQ *HAWAIIAN AROMA CAF   HONOLULU     HI\n",
       "2     AINA HAINA FOODLAND FA   HONOLULU     HI\n",
       "3     MD FASHION SHOP          HAWAII       HI\n",
       "4     DKTL GIFT SHOP           HONOLULU     HI\n",
       "                        ...                   \n",
       "81    WHT HS BLK MKT #3638     EAGAN        MN\n",
       "82    CIELITO LINDO TAQUERIA   SAINT PAUL   MN\n",
       "83    MCDONALD'S M2039         WEST BRANCH  IA\n",
       "84    HILLTOP KENNELS LLC      CEDAR RAPIDS IA\n",
       "85    HY-VEE CEDAR RAPIDS 10   CEDAR RAPIDS IA\n",
       "Name: Description, Length: 86, dtype: object"
      ]
     },
     "execution_count": 7,
     "metadata": {},
     "output_type": "execute_result"
    }
   ],
   "source": [
    "oo.Description"
   ]
  },
  {
   "cell_type": "markdown",
   "id": "6de20e7a",
   "metadata": {},
   "source": [
    "list all HY-VEE tranx"
   ]
  },
  {
   "cell_type": "code",
   "execution_count": 11,
   "id": "6159e706",
   "metadata": {},
   "outputs": [
    {
     "data": {
      "text/html": [
       "<div>\n",
       "<style scoped>\n",
       "    .dataframe tbody tr th:only-of-type {\n",
       "        vertical-align: middle;\n",
       "    }\n",
       "\n",
       "    .dataframe tbody tr th {\n",
       "        vertical-align: top;\n",
       "    }\n",
       "\n",
       "    .dataframe thead th {\n",
       "        text-align: right;\n",
       "    }\n",
       "</style>\n",
       "<table border=\"1\" class=\"dataframe\">\n",
       "  <thead>\n",
       "    <tr style=\"text-align: right;\">\n",
       "      <th></th>\n",
       "      <th>Transaction Date</th>\n",
       "      <th>Posting Date</th>\n",
       "      <th>Reference Number</th>\n",
       "      <th>Amount</th>\n",
       "      <th>Description</th>\n",
       "    </tr>\n",
       "  </thead>\n",
       "  <tbody>\n",
       "    <tr>\n",
       "      <th>26</th>\n",
       "      <td>10/20/2021</td>\n",
       "      <td>10/20/2021</td>\n",
       "      <td>02305379600DY3VPS</td>\n",
       "      <td>-24.10</td>\n",
       "      <td>HY-VEE CEDAR RAPIDS 10   CEDAR RAPIDS IA</td>\n",
       "    </tr>\n",
       "    <tr>\n",
       "      <th>34</th>\n",
       "      <td>10/22/2021</td>\n",
       "      <td>10/22/2021</td>\n",
       "      <td>02305379800F6GPW6</td>\n",
       "      <td>-19.62</td>\n",
       "      <td>HY-VEE CEDAR RAPIDS 10   CEDAR RAPIDS IA</td>\n",
       "    </tr>\n",
       "    <tr>\n",
       "      <th>39</th>\n",
       "      <td>10/24/2021</td>\n",
       "      <td>10/24/2021</td>\n",
       "      <td>02305379A00BTP6FS</td>\n",
       "      <td>-100.00</td>\n",
       "      <td>HY-VEE CEDAR RAPIDS 10   CEDAR RAPIDS IA</td>\n",
       "    </tr>\n",
       "    <tr>\n",
       "      <th>40</th>\n",
       "      <td>10/24/2021</td>\n",
       "      <td>10/24/2021</td>\n",
       "      <td>02305379A00BTP6HW</td>\n",
       "      <td>-7.03</td>\n",
       "      <td>HY-VEE CEDAR RAPIDS 10   CEDAR RAPIDS IA</td>\n",
       "    </tr>\n",
       "    <tr>\n",
       "      <th>42</th>\n",
       "      <td>10/25/2021</td>\n",
       "      <td>10/25/2021</td>\n",
       "      <td>02305379B00DV6DF8</td>\n",
       "      <td>-70.43</td>\n",
       "      <td>HY-VEE CEDAR RAPIDS 10   CEDAR RAPIDS IA</td>\n",
       "    </tr>\n",
       "  </tbody>\n",
       "</table>\n",
       "</div>"
      ],
      "text/plain": [
       "   Transaction Date Posting Date   Reference Number  Amount  \\\n",
       "26       10/20/2021   10/20/2021  02305379600DY3VPS  -24.10   \n",
       "34       10/22/2021   10/22/2021  02305379800F6GPW6  -19.62   \n",
       "39       10/24/2021   10/24/2021  02305379A00BTP6FS -100.00   \n",
       "40       10/24/2021   10/24/2021  02305379A00BTP6HW   -7.03   \n",
       "42       10/25/2021   10/25/2021  02305379B00DV6DF8  -70.43   \n",
       "\n",
       "                                 Description  \n",
       "26  HY-VEE CEDAR RAPIDS 10   CEDAR RAPIDS IA  \n",
       "34  HY-VEE CEDAR RAPIDS 10   CEDAR RAPIDS IA  \n",
       "39  HY-VEE CEDAR RAPIDS 10   CEDAR RAPIDS IA  \n",
       "40  HY-VEE CEDAR RAPIDS 10   CEDAR RAPIDS IA  \n",
       "42  HY-VEE CEDAR RAPIDS 10   CEDAR RAPIDS IA  "
      ]
     },
     "execution_count": 11,
     "metadata": {},
     "output_type": "execute_result"
    }
   ],
   "source": [
    "hv = oo[oo.Description.str.contains(\"HY-VEE\")]\n",
    "hv.head()"
   ]
  },
  {
   "cell_type": "code",
   "execution_count": null,
   "id": "3ee7495a",
   "metadata": {},
   "outputs": [],
   "source": []
  }
 ],
 "metadata": {
  "kernelspec": {
   "display_name": "Python 3 (ipykernel)",
   "language": "python",
   "name": "python3"
  },
  "language_info": {
   "codemirror_mode": {
    "name": "ipython",
    "version": 3
   },
   "file_extension": ".py",
   "mimetype": "text/x-python",
   "name": "python",
   "nbconvert_exporter": "python",
   "pygments_lexer": "ipython3",
   "version": "3.7.3"
  }
 },
 "nbformat": 4,
 "nbformat_minor": 5
}
