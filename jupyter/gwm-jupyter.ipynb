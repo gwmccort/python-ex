{
 "cells": [
  {
   "cell_type": "markdown",
   "id": "e7f5919d",
   "metadata": {},
   "source": [
    "# This is a test jupyter notebook\n",
    "The code is from (Introducing Jupyter | LinkedIn)[https://www.linkedin.com/learning/introducing-jupyter?u=95224865]\n",
    "\n",
    "This is a (Google)[http://google.com]"
   ]
  },
  {
   "cell_type": "code",
   "execution_count": 1,
   "id": "79920d94",
   "metadata": {},
   "outputs": [
    {
     "data": {
      "image/png": "[encoded data removed]",
      "text/plain": [
       "<Figure size 432x288 with 1 Axes>"
      ]
     },
     "metadata": {
      "needs_background": "light"
     },
     "output_type": "display_data"
    }
   ],
   "source": [
    "import matplotlib.pyplot as plt\n",
    "\n",
    "greeting = \"Hello Jupyter!\"\n",
    "\n",
    "word_length = [len(w) for w in greeting.split(' ')]\n",
    "\n",
    "words = greeting.split(\" \")\n",
    "plt.bar(words,word_length)\n",
    "plt.show()"
   ]
  },
  {
   "cell_type": "code",
   "execution_count": 2,
   "id": "69b2c7b7",
   "metadata": {},
   "outputs": [
    {
     "name": "stdout",
     "output_type": "stream",
     "text": [
      "hello glen\n"
     ]
    }
   ],
   "source": [
    "print('hello glen')"
   ]
  },
  {
   "cell_type": "code",
   "execution_count": 3,
   "id": "b24fef48",
   "metadata": {},
   "outputs": [
    {
     "name": "stdout",
     "output_type": "stream",
     "text": [
      "hello\n",
      "['list', 'glen']\n"
     ]
    }
   ],
   "source": [
    "print('hello')\n",
    "l = ['list', 'glen']\n",
    "print(l)"
   ]
  }
 ],
 "metadata": {
  "interpreter": {
   "hash": "31f2aee4e71d21fbe5cf8b01ff0e069b9275f58929596ceb00d14d90e3e16cd6"
  },
  "kernelspec": {
   "display_name": "Python 3 (ipykernel)",
   "language": "python",
   "name": "python3"
  },
  "language_info": {
   "codemirror_mode": {
    "name": "ipython",
    "version": 3
   },
   "file_extension": ".py",
   "mimetype": "text/x-python",
   "name": "python",
   "nbconvert_exporter": "python",
   "pygments_lexer": "ipython3",
   "version": "3.7.3"
  }
 },
 "nbformat": 4,
 "nbformat_minor": 5
}
